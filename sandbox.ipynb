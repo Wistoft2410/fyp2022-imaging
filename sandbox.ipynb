{
 "cells": [
  {
   "cell_type": "code",
   "execution_count": 1,
   "metadata": {},
   "outputs": [],
   "source": [
    "import numpy as np\n",
    "import matplotlib.pyplot as plt\n",
    "import matplotlib.cm as cm\n",
    "from skimage import morphology\n",
    "from scipy.spatial.distance import cdist\n",
    "from scipy.stats import mode"
   ]
  },
  {
   "cell_type": "code",
   "execution_count": 2,
   "metadata": {},
   "outputs": [],
   "source": [
    "def scatter_data(x1, x2, y, ax=None):\n",
    "    # scatter_data displays a scatterplot of featuress x1 and x2, and gives each point\n",
    "    # a different color based on its label in y\n",
    "\n",
    "    class_labels, indices1, indices2 = np.unique(y, return_index=True, return_inverse=True)\n",
    "    if ax is None:\n",
    "        fig = plt.figure(figsize=(8, 8))\n",
    "        ax = fig.add_subplot(111)\n",
    "        ax.grid()\n",
    "\n",
    "    colors = cm.rainbow(np.linspace(0, 1, len(class_labels)))\n",
    "    for i, c in zip(np.arange(len(class_labels)), colors):\n",
    "        idx2 = indices2 == class_labels[i]\n",
    "        lbl = 'Class ' + str(i)\n",
    "        ax.scatter(x1[idx2], x2[idx2], color=c, label=lbl)\n",
    "\n",
    "    return ax"
   ]
  },
  {
   "cell_type": "code",
   "execution_count": 3,
   "metadata": {},
   "outputs": [],
   "source": [
    "def measure_area_perimeter(mask):\n",
    "    # Measure area: the sum of all white pixels in the mask image\n",
    "    area = np.sum(mask)\n",
    "\n",
    "    # Measure perimeter: first find which pixels belong to the perimeter.\n",
    "    struct_el = morphology.disk(1)\n",
    "    mask_eroded = morphology.binary_erosion(mask, struct_el)\n",
    "    image_perimeter = mask - mask_eroded\n",
    "\n",
    "    # Now we have the perimeter image, the sum of all white pixels in it\n",
    "    perimeter = np.sum(image_perimeter)\n",
    "\n",
    "    return area, perimeter"
   ]
  },
  {
   "cell_type": "code",
   "execution_count": 4,
   "metadata": {},
   "outputs": [],
   "source": [
    "def knn_classifier(x_train, y_train, x_validation, x_test, k):\n",
    "    # Returns the labels for test_data, predicted by the k-NN clasifier trained on X_train and y_train\n",
    "    # Input:\n",
    "    # X_train - num_train x num_features matrix with features for the training data\n",
    "    # y_train - num_train x 1 vector with labels for the training data\n",
    "    # X_validation - num_test x num_features matrix with features for the validation data\n",
    "    # X_test - num_test x num_features matrix with features for the test data\n",
    "    # k - Number of neighbors to take into account\n",
    "    # Output:\n",
    "    # y_pred_validation - num_test x 1 predicted vector with labels for the validation data\n",
    "    # y_pred_test - num_test x 1 predicted vector with labels for the test data\n",
    "\n",
    "    x_test_val = np.vstack((x_validation, x_test))\n",
    "    \n",
    "    # Compute standardized euclidian distance of validation and test points to the other points\n",
    "    distances = cdist(x_test_val, x_train, metric='seuclidean')\n",
    "    \n",
    "    # Sort distances per row and return array of indices from low to high\n",
    "    sort_ix = np.argsort(distances, axis=1)\n",
    "    \n",
    "    # Get the k smallest distances\n",
    "    sort_ix_k = sort_ix[:, :k]\n",
    "    predicted_labels = y_train[sort_ix_k]\n",
    "    \n",
    "    # Predictions for each point is the mode of the K labels closest to the point\n",
    "    predicted_labels = mode(predicted_labels, axis=1)[0]\n",
    "    y_pred_validation = predicted_labels[:len(x_validation)]\n",
    "    y_pred_test = predicted_labels[len(x_validation):]\n",
    "    \n",
    "    return y_pred_validation, y_pred_test"
   ]
  }
 ],
 "metadata": {
  "interpreter": {
   "hash": "b0fa6594d8f4cbf19f97940f81e996739fb7646882a419484c72d19e05852a7e"
  },
  "kernelspec": {
   "display_name": "Python 3.9.10 64-bit",
   "language": "python",
   "name": "python3"
  },
  "language_info": {
   "codemirror_mode": {
    "name": "ipython",
    "version": 3
   },
   "file_extension": ".py",
   "mimetype": "text/x-python",
   "name": "python",
   "nbconvert_exporter": "python",
   "pygments_lexer": "ipython3",
   "version": "3.9.10"
  },
  "orig_nbformat": 4
 },
 "nbformat": 4,
 "nbformat_minor": 2
}
